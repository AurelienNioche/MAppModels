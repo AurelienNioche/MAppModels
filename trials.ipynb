{
 "cells": [
  {
   "cell_type": "code",
   "execution_count": 12,
   "metadata": {
    "collapsed": true,
    "ExecuteTime": {
     "end_time": "2023-07-14T12:44:15.140352Z",
     "start_time": "2023-07-14T12:44:15.134326Z"
    }
   },
   "outputs": [
    {
     "data": {
      "text/plain": "array([[0.37423033, 0.09746885, 0.23156465, 0.17274765, 0.12398852],\n       [0.10939403, 0.23996222, 0.19866242, 0.19006186, 0.26191948]])"
     },
     "execution_count": 12,
     "metadata": {},
     "output_type": "execute_result"
    }
   ],
   "source": [
    "import numpy as np\n",
    "\n",
    "belief_context = np.random.random(2)\n",
    "belief_context /= belief_context.sum()\n",
    "\n",
    "belief_location = np.random.random(4)\n",
    "belief_location /= belief_location.sum()\n",
    "\n",
    "belief_locinfo = np.random.random(5)\n",
    "belief_locinfo /= belief_locinfo.sum()\n",
    "\n",
    "transition_context_location_locinfo = np.random.random((2, 4, 5))\n",
    "sum_trans = transition_context_location_locinfo.sum(axis=-1)\n",
    "transition_context_location_locinfo /= sum_trans[:, :, np.newaxis]\n",
    "\n",
    "belief_locinfo_given_current_belief_loc_for_each_context = belief_location@transition_context_location_locinfo\n",
    "belief_locinfo_given_current_belief_loc_for_each_context\n"
   ]
  },
  {
   "cell_type": "code",
   "execution_count": 13,
   "outputs": [
    {
     "data": {
      "text/plain": "array([1., 1.])"
     },
     "execution_count": 13,
     "metadata": {},
     "output_type": "execute_result"
    }
   ],
   "source": [
    "belief_locinfo_given_current_belief_loc_for_each_context.sum(axis=-1)"
   ],
   "metadata": {
    "collapsed": false,
    "ExecuteTime": {
     "end_time": "2023-07-14T12:44:15.963847Z",
     "start_time": "2023-07-14T12:44:15.959300Z"
    }
   }
  },
  {
   "cell_type": "code",
   "execution_count": 17,
   "outputs": [
    {
     "data": {
      "text/plain": "array([0.15713195, 0.84286805])"
     },
     "execution_count": 17,
     "metadata": {},
     "output_type": "execute_result"
    }
   ],
   "source": [
    "p_context_given_current_belief_locinfo = belief_locinfo@(belief_location@transition_context_location_locinfo).T * belief_context\n",
    "p_context_given_current_belief_locinfo /= p_context_given_current_belief_locinfo.sum()\n",
    "p_context_given_current_belief_locinfo"
   ],
   "metadata": {
    "collapsed": false,
    "ExecuteTime": {
     "end_time": "2023-07-14T12:46:06.286315Z",
     "start_time": "2023-07-14T12:46:06.281504Z"
    }
   }
  },
  {
   "cell_type": "code",
   "execution_count": null,
   "outputs": [],
   "source": [],
   "metadata": {
    "collapsed": false
   }
  }
 ],
 "metadata": {
  "kernelspec": {
   "display_name": "Python 3",
   "language": "python",
   "name": "python3"
  },
  "language_info": {
   "codemirror_mode": {
    "name": "ipython",
    "version": 2
   },
   "file_extension": ".py",
   "mimetype": "text/x-python",
   "name": "python",
   "nbconvert_exporter": "python",
   "pygments_lexer": "ipython2",
   "version": "2.7.6"
  }
 },
 "nbformat": 4,
 "nbformat_minor": 0
}
